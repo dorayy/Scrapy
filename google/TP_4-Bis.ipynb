{
 "cells": [
  {
   "cell_type": "markdown",
   "id": "98f9bc15",
   "metadata": {},
   "source": [
    "# 4-bis. Web Scraping - Scrapy\n",
    "## Projet de collecte de données via Google Image\n",
    "\n",
    "\n",
    "<img src = 'https://xn--kvin-duranty-beb.fr/wp-content/uploads/2022/10/Web-Scraping-_-IPSSI-PRS-2.png' >\n",
    "\n",
    "\n",
    "\n",
    "Dans cet exercice, nous utiliserons la bibliothèque Selenium afin de se constituer un jeu de données d'images provenant de Google images.\n",
    "\n",
    "\n",
    "**Travail en binôme**\n",
    "\n",
    "1. **Initiez un projet sur github**\n",
    "\n",
    "2. **Créez un programme nommé \"app.py\" capable de lancer une rechercche sur [Google images](https://www.google.com/imghp?hl=EN) puis collecter les 2 premières images qui s'y trouvent.**\n",
    "\n",
    "3. **Stockez les images dans un répertoir ayant pour nom les mots clées de la recherche (ex : cat, dog, fish).**\n",
    "\n",
    "4. **Les images devront toutes posséder les mêmes dimensions et être nomées en fonction des mots clé de la recherche.**\n",
    "\n",
    "5. **Le programme pourra s'exécuter dans le terminal en lui passant en argument les termes de la recherche.**\n",
    "\n",
    "6. **Le code sera contenu dans des fonctions ou des class pour le traitement des images.**\n",
    "\n",
    "<img src='https://upload.wikimedia.org/wikipedia/commons/thumb/7/77/Google_Images_2015_logo.svg/1280px-Google_Images_2015_logo.svg.png'>"
   ]
  },
  {
   "cell_type": "code",
   "execution_count": 4,
   "id": "ab86ca66",
   "metadata": {},
   "outputs": [],
   "source": [
    "from selenium import webdriver\n",
    "from selenium.webdriver.common.by import By"
   ]
  },
  {
   "cell_type": "code",
   "execution_count": 5,
   "id": "66cfeeca",
   "metadata": {},
   "outputs": [],
   "source": [
    "DRIVER_PATH = 'C:\\Program Files (x86)\\Google\\Chrome\\Application\\chromedriver.exe'"
   ]
  },
  {
   "cell_type": "code",
   "execution_count": 6,
   "id": "e194ad8e",
   "metadata": {},
   "outputs": [],
   "source": [
    "BASE_URL = 'https://www.google.com/search?q=dog&tbm=isch&hl=fr&tbs=isz:m'"
   ]
  },
  {
   "cell_type": "code",
   "execution_count": 7,
   "id": "54ceb313",
   "metadata": {},
   "outputs": [
    {
     "name": "stderr",
     "output_type": "stream",
     "text": [
      "C:\\Users\\Public\\Documents\\Wondershare\\CreatorTemp\\ipykernel_11512\\3247036640.py:1: DeprecationWarning: executable_path has been deprecated, please pass in a Service object\n",
      "  driver = webdriver.Chrome(DRIVER_PATH)\n"
     ]
    }
   ],
   "source": [
    "driver = webdriver.Chrome(DRIVER_PATH)\n",
    "driver.get(BASE_URL)"
   ]
  },
  {
   "cell_type": "code",
   "execution_count": 8,
   "id": "48be0602",
   "metadata": {},
   "outputs": [],
   "source": [
    "cookieBtn = driver.find_element(By.XPATH , '//*[@id=\"yDmH0d\"]/c-wiz/div/div/div/div[2]/div[1]/div[3]/div[1]/div[1]/form[2]/div')\n",
    "cookieBtn.click()"
   ]
  },
  {
   "cell_type": "code",
   "execution_count": 9,
   "id": "773a3ee5",
   "metadata": {},
   "outputs": [],
   "source": [
    "photos = driver.find_elements(By.CSS_SELECTOR, \"div.isv-r.PNCib.MSM1fd.BUooTd\")"
   ]
  },
  {
   "cell_type": "code",
   "execution_count": 11,
   "id": "fedefa9b",
   "metadata": {},
   "outputs": [
    {
     "ename": "IndexError",
     "evalue": "list index out of range",
     "output_type": "error",
     "traceback": [
      "\u001b[1;31m---------------------------------------------------------------------------\u001b[0m",
      "\u001b[1;31mIndexError\u001b[0m                                Traceback (most recent call last)",
      "\u001b[1;32mc:\\Users\\doray\\Desktop\\Web Scraping\\scrappy\\google\\TP_4-Bis.ipynb Cellule 8\u001b[0m in \u001b[0;36m<cell line: 7>\u001b[1;34m()\u001b[0m\n\u001b[0;32m      <a href='vscode-notebook-cell:/c%3A/Users/doray/Desktop/Web%20Scraping/scrappy/google/TP_4-Bis.ipynb#X10sZmlsZQ%3D%3D?line=8'>9</a>\u001b[0m img \u001b[39m=\u001b[39m driver\u001b[39m.\u001b[39mfind_element(By\u001b[39m.\u001b[39mXPATH, \u001b[39m'\u001b[39m\u001b[39m/html/body/div[2]/c-wiz/div[3]/div[2]/div[3]/div/div/div[3]/div[2]/c-wiz/div/div[1]/div[1]/div[3]/div/a/img\u001b[39m\u001b[39m'\u001b[39m)\n\u001b[0;32m     <a href='vscode-notebook-cell:/c%3A/Users/doray/Desktop/Web%20Scraping/scrappy/google/TP_4-Bis.ipynb#X10sZmlsZQ%3D%3D?line=9'>10</a>\u001b[0m img_url \u001b[39m=\u001b[39m img\u001b[39m.\u001b[39mget_attribute(\u001b[39m'\u001b[39m\u001b[39msrc\u001b[39m\u001b[39m'\u001b[39m)\n\u001b[1;32m---> <a href='vscode-notebook-cell:/c%3A/Users/doray/Desktop/Web%20Scraping/scrappy/google/TP_4-Bis.ipynb#X10sZmlsZQ%3D%3D?line=10'>11</a>\u001b[0m img_name \u001b[39m=\u001b[39m img_url\u001b[39m.\u001b[39;49msplit(\u001b[39m'\u001b[39;49m\u001b[39m,\u001b[39;49m\u001b[39m'\u001b[39;49m)[\u001b[39m1\u001b[39;49m]\n\u001b[0;32m     <a href='vscode-notebook-cell:/c%3A/Users/doray/Desktop/Web%20Scraping/scrappy/google/TP_4-Bis.ipynb#X10sZmlsZQ%3D%3D?line=12'>13</a>\u001b[0m binary_data \u001b[39m=\u001b[39m a2b_base64(img_name)\n\u001b[0;32m     <a href='vscode-notebook-cell:/c%3A/Users/doray/Desktop/Web%20Scraping/scrappy/google/TP_4-Bis.ipynb#X10sZmlsZQ%3D%3D?line=14'>15</a>\u001b[0m \u001b[39mwith\u001b[39;00m \u001b[39mopen\u001b[39m(\u001b[39m'\u001b[39m\u001b[39mdog/\u001b[39m\u001b[39m'\u001b[39m \u001b[39m+\u001b[39m \u001b[39mstr\u001b[39m(photos\u001b[39m.\u001b[39mindex(photo)) \u001b[39m+\u001b[39m \u001b[39m'\u001b[39m\u001b[39m.jpg\u001b[39m\u001b[39m'\u001b[39m, \u001b[39m'\u001b[39m\u001b[39mwb\u001b[39m\u001b[39m'\u001b[39m) \u001b[39mas\u001b[39;00m f:\n",
      "\u001b[1;31mIndexError\u001b[0m: list index out of range"
     ]
    }
   ],
   "source": [
    "import os\n",
    "from binascii import a2b_base64\n",
    "\n",
    "if not os.path.exists('dog'):\n",
    "    os.makedirs('dog')\n",
    "\n",
    "for photo in photos[:10]:\n",
    "    photo.click()\n",
    "    img = driver.find_element(By.XPATH, '/html/body/div[2]/c-wiz/div[3]/div[2]/div[3]/div/div/div[3]/div[2]/c-wiz/div/div[1]/div[1]/div[3]/div/a/img')\n",
    "    img_url = img.get_attribute('src')\n",
    "    img_name = img_url.split(',')[1]\n",
    "    \n",
    "    binary_data = a2b_base64(img_name)\n",
    "\n",
    "    with open('dog/' + str(photos.index(photo)) + '.jpg', 'wb') as f:\n",
    "        f.write(binary_data)"
   ]
  },
  {
   "cell_type": "code",
   "execution_count": null,
   "id": "317e94aa",
   "metadata": {},
   "outputs": [],
   "source": []
  }
 ],
 "metadata": {
  "kernelspec": {
   "display_name": "Python 3.9.12 ('base')",
   "language": "python",
   "name": "python3"
  },
  "language_info": {
   "codemirror_mode": {
    "name": "ipython",
    "version": 3
   },
   "file_extension": ".py",
   "mimetype": "text/x-python",
   "name": "python",
   "nbconvert_exporter": "python",
   "pygments_lexer": "ipython3",
   "version": "3.9.12"
  },
  "vscode": {
   "interpreter": {
    "hash": "569ece3135de15643a61c059d59beec37ee0614225fbfabde5826efb8d0fe515"
   }
  }
 },
 "nbformat": 4,
 "nbformat_minor": 5
}
