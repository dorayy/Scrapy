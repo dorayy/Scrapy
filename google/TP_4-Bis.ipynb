{
 "cells": [
  {
   "cell_type": "markdown",
   "id": "98f9bc15",
   "metadata": {},
   "source": [
    "# 4-bis. Web Scraping - Scrapy\n",
    "## Projet de collecte de données via Google Image\n",
    "\n",
    "\n",
    "<img src = 'https://xn--kvin-duranty-beb.fr/wp-content/uploads/2022/10/Web-Scraping-_-IPSSI-PRS-2.png' >\n",
    "\n",
    "\n",
    "\n",
    "Dans cet exercice, nous utiliserons la bibliothèque Selenium afin de se constituer un jeu de données d'images provenant de Google images.\n",
    "\n",
    "\n",
    "**Travail en binôme**\n",
    "\n",
    "1. **Initiez un projet sur github**\n",
    "\n",
    "2. **Créez un programme nommé \"app.py\" capable de lancer une rechercche sur [Google images](https://www.google.com/imghp?hl=EN) puis collecter les 2 premières images qui s'y trouvent.**\n",
    "\n",
    "3. **Stockez les images dans un répertoir ayant pour nom les mots clées de la recherche (ex : cat, dog, fish).**\n",
    "\n",
    "4. **Les images devront toutes posséder les mêmes dimensions et être nomées en fonction des mots clé de la recherche.**\n",
    "\n",
    "5. **Le programme pourra s'exécuter dans le terminal en lui passant en argument les termes de la recherche.**\n",
    "\n",
    "6. **Le code sera contenu dans des fonctions ou des class pour le traitement des images.**\n",
    "\n",
    "<img src='https://upload.wikimedia.org/wikipedia/commons/thumb/7/77/Google_Images_2015_logo.svg/1280px-Google_Images_2015_logo.svg.png'>"
   ]
  },
  {
   "cell_type": "markdown",
   "id": "1d10c49d",
   "metadata": {},
   "source": [
    "<!-- LIRE LE NOTEBOOK EN DEHORS DU DOSSIER SCRAPPY -->"
   ]
  },
  {
   "cell_type": "code",
   "execution_count": 1,
   "id": "ab86ca66",
   "metadata": {},
   "outputs": [],
   "source": [
    "from selenium import webdriver\n",
    "from selenium.webdriver.common.by import By"
   ]
  },
  {
   "cell_type": "code",
   "execution_count": 2,
   "id": "66cfeeca",
   "metadata": {},
   "outputs": [],
   "source": [
    "DRIVER_PATH = 'C:\\Program Files (x86)\\Google\\Chrome\\Application\\chromedriver.exe'"
   ]
  },
  {
   "cell_type": "code",
   "execution_count": 9,
   "id": "e194ad8e",
   "metadata": {},
   "outputs": [],
   "source": [
    "BASE_URL = 'https://www.google.com/search?q=dog&tbm=isch&hl=fr&tbs=isz:m'"
   ]
  },
  {
   "cell_type": "code",
   "execution_count": 10,
   "id": "54ceb313",
   "metadata": {},
   "outputs": [
    {
     "name": "stderr",
     "output_type": "stream",
     "text": [
      "C:\\Users\\Public\\Documents\\Wondershare\\CreatorTemp\\ipykernel_1048\\3247036640.py:1: DeprecationWarning: executable_path has been deprecated, please pass in a Service object\n",
      "  driver = webdriver.Chrome(DRIVER_PATH)\n"
     ]
    }
   ],
   "source": [
    "driver = webdriver.Chrome(DRIVER_PATH)\n",
    "driver.get(BASE_URL)"
   ]
  },
  {
   "cell_type": "code",
   "execution_count": 11,
   "id": "48be0602",
   "metadata": {},
   "outputs": [],
   "source": [
    "cookieBtn = driver.find_element(By.XPATH , '//*[@id=\"yDmH0d\"]/c-wiz/div/div/div/div[2]/div[1]/div[3]/div[1]/div[1]/form[2]/div')\n",
    "cookieBtn.click()"
   ]
  },
  {
   "cell_type": "code",
   "execution_count": 12,
   "id": "773a3ee5",
   "metadata": {},
   "outputs": [],
   "source": [
    "photos = driver.find_elements(By.CSS_SELECTOR, \"div.isv-r.PNCib.MSM1fd.BUooTd\")"
   ]
  },
  {
   "cell_type": "code",
   "execution_count": 23,
   "id": "fedefa9b",
   "metadata": {},
   "outputs": [
    {
     "ename": "NoSuchElementException",
     "evalue": "Message: no such element: Unable to locate element: {\"method\":\"css selector\",\"selector\":\".n3VNCb.KAlRDb\"}\n  (Session info: chrome=107.0.5304.62)\nStacktrace:\nBacktrace:\n\tOrdinal0 [0x00581ED3+2236115]\n\tOrdinal0 [0x005192F1+1807089]\n\tOrdinal0 [0x004266FD+812797]\n\tOrdinal0 [0x004555DF+1005023]\n\tOrdinal0 [0x004557CB+1005515]\n\tOrdinal0 [0x00487632+1209906]\n\tOrdinal0 [0x00471AD4+1120980]\n\tOrdinal0 [0x004859E2+1202658]\n\tOrdinal0 [0x004718A6+1120422]\n\tOrdinal0 [0x0044A73D+960317]\n\tOrdinal0 [0x0044B71F+964383]\n\tGetHandleVerifier [0x0082E7E2+2743074]\n\tGetHandleVerifier [0x008208D4+2685972]\n\tGetHandleVerifier [0x00612BAA+532202]\n\tGetHandleVerifier [0x00611990+527568]\n\tOrdinal0 [0x0052080C+1837068]\n\tOrdinal0 [0x00524CD8+1854680]\n\tOrdinal0 [0x00524DC5+1854917]\n\tOrdinal0 [0x0052ED64+1895780]\n\tBaseThreadInitThunk [0x76CCFA29+25]\n\tRtlGetAppContainerNamedObjectPath [0x77627BBE+286]\n\tRtlGetAppContainerNamedObjectPath [0x77627B8E+238]\n",
     "output_type": "error",
     "traceback": [
      "\u001b[1;31m---------------------------------------------------------------------------\u001b[0m",
      "\u001b[1;31mNoSuchElementException\u001b[0m                    Traceback (most recent call last)",
      "\u001b[1;32mc:\\Users\\doray\\Desktop\\Web Scraping\\scrappy\\google\\TP_4-Bis.ipynb Cellule 8\u001b[0m in \u001b[0;36m<cell line: 7>\u001b[1;34m()\u001b[0m\n\u001b[0;32m      <a href='vscode-notebook-cell:/c%3A/Users/doray/Desktop/Web%20Scraping/scrappy/google/TP_4-Bis.ipynb#X10sZmlsZQ%3D%3D?line=6'>7</a>\u001b[0m \u001b[39mfor\u001b[39;00m photo \u001b[39min\u001b[39;00m photos[:\u001b[39m10\u001b[39m]:\n\u001b[0;32m      <a href='vscode-notebook-cell:/c%3A/Users/doray/Desktop/Web%20Scraping/scrappy/google/TP_4-Bis.ipynb#X10sZmlsZQ%3D%3D?line=7'>8</a>\u001b[0m     photo\u001b[39m.\u001b[39mclick()\n\u001b[1;32m----> <a href='vscode-notebook-cell:/c%3A/Users/doray/Desktop/Web%20Scraping/scrappy/google/TP_4-Bis.ipynb#X10sZmlsZQ%3D%3D?line=8'>9</a>\u001b[0m     img \u001b[39m=\u001b[39m driver\u001b[39m.\u001b[39;49mfind_element(By\u001b[39m.\u001b[39;49mCLASS_NAME, \u001b[39m'\u001b[39;49m\u001b[39mn3VNCb.KAlRDb\u001b[39;49m\u001b[39m'\u001b[39;49m)\n\u001b[0;32m     <a href='vscode-notebook-cell:/c%3A/Users/doray/Desktop/Web%20Scraping/scrappy/google/TP_4-Bis.ipynb#X10sZmlsZQ%3D%3D?line=9'>10</a>\u001b[0m     img_url \u001b[39m=\u001b[39m img\u001b[39m.\u001b[39mget_attribute(\u001b[39m'\u001b[39m\u001b[39msrc\u001b[39m\u001b[39m'\u001b[39m)\n\u001b[0;32m     <a href='vscode-notebook-cell:/c%3A/Users/doray/Desktop/Web%20Scraping/scrappy/google/TP_4-Bis.ipynb#X10sZmlsZQ%3D%3D?line=10'>11</a>\u001b[0m     \u001b[39mprint\u001b[39m(img)\n",
      "File \u001b[1;32mc:\\Users\\doray\\anaconda3\\lib\\site-packages\\selenium\\webdriver\\remote\\webdriver.py:856\u001b[0m, in \u001b[0;36mWebDriver.find_element\u001b[1;34m(self, by, value)\u001b[0m\n\u001b[0;32m    853\u001b[0m     by \u001b[39m=\u001b[39m By\u001b[39m.\u001b[39mCSS_SELECTOR\n\u001b[0;32m    854\u001b[0m     value \u001b[39m=\u001b[39m \u001b[39m'\u001b[39m\u001b[39m[name=\u001b[39m\u001b[39m\"\u001b[39m\u001b[39m%s\u001b[39;00m\u001b[39m\"\u001b[39m\u001b[39m]\u001b[39m\u001b[39m'\u001b[39m \u001b[39m%\u001b[39m value\n\u001b[1;32m--> 856\u001b[0m \u001b[39mreturn\u001b[39;00m \u001b[39mself\u001b[39;49m\u001b[39m.\u001b[39;49mexecute(Command\u001b[39m.\u001b[39;49mFIND_ELEMENT, {\n\u001b[0;32m    857\u001b[0m     \u001b[39m'\u001b[39;49m\u001b[39musing\u001b[39;49m\u001b[39m'\u001b[39;49m: by,\n\u001b[0;32m    858\u001b[0m     \u001b[39m'\u001b[39;49m\u001b[39mvalue\u001b[39;49m\u001b[39m'\u001b[39;49m: value})[\u001b[39m'\u001b[39m\u001b[39mvalue\u001b[39m\u001b[39m'\u001b[39m]\n",
      "File \u001b[1;32mc:\\Users\\doray\\anaconda3\\lib\\site-packages\\selenium\\webdriver\\remote\\webdriver.py:429\u001b[0m, in \u001b[0;36mWebDriver.execute\u001b[1;34m(self, driver_command, params)\u001b[0m\n\u001b[0;32m    427\u001b[0m response \u001b[39m=\u001b[39m \u001b[39mself\u001b[39m\u001b[39m.\u001b[39mcommand_executor\u001b[39m.\u001b[39mexecute(driver_command, params)\n\u001b[0;32m    428\u001b[0m \u001b[39mif\u001b[39;00m response:\n\u001b[1;32m--> 429\u001b[0m     \u001b[39mself\u001b[39;49m\u001b[39m.\u001b[39;49merror_handler\u001b[39m.\u001b[39;49mcheck_response(response)\n\u001b[0;32m    430\u001b[0m     response[\u001b[39m'\u001b[39m\u001b[39mvalue\u001b[39m\u001b[39m'\u001b[39m] \u001b[39m=\u001b[39m \u001b[39mself\u001b[39m\u001b[39m.\u001b[39m_unwrap_value(\n\u001b[0;32m    431\u001b[0m         response\u001b[39m.\u001b[39mget(\u001b[39m'\u001b[39m\u001b[39mvalue\u001b[39m\u001b[39m'\u001b[39m, \u001b[39mNone\u001b[39;00m))\n\u001b[0;32m    432\u001b[0m     \u001b[39mreturn\u001b[39;00m response\n",
      "File \u001b[1;32mc:\\Users\\doray\\anaconda3\\lib\\site-packages\\selenium\\webdriver\\remote\\errorhandler.py:243\u001b[0m, in \u001b[0;36mErrorHandler.check_response\u001b[1;34m(self, response)\u001b[0m\n\u001b[0;32m    241\u001b[0m         alert_text \u001b[39m=\u001b[39m value[\u001b[39m'\u001b[39m\u001b[39malert\u001b[39m\u001b[39m'\u001b[39m]\u001b[39m.\u001b[39mget(\u001b[39m'\u001b[39m\u001b[39mtext\u001b[39m\u001b[39m'\u001b[39m)\n\u001b[0;32m    242\u001b[0m     \u001b[39mraise\u001b[39;00m exception_class(message, screen, stacktrace, alert_text)  \u001b[39m# type: ignore[call-arg]  # mypy is not smart enough here\u001b[39;00m\n\u001b[1;32m--> 243\u001b[0m \u001b[39mraise\u001b[39;00m exception_class(message, screen, stacktrace)\n",
      "\u001b[1;31mNoSuchElementException\u001b[0m: Message: no such element: Unable to locate element: {\"method\":\"css selector\",\"selector\":\".n3VNCb.KAlRDb\"}\n  (Session info: chrome=107.0.5304.62)\nStacktrace:\nBacktrace:\n\tOrdinal0 [0x00581ED3+2236115]\n\tOrdinal0 [0x005192F1+1807089]\n\tOrdinal0 [0x004266FD+812797]\n\tOrdinal0 [0x004555DF+1005023]\n\tOrdinal0 [0x004557CB+1005515]\n\tOrdinal0 [0x00487632+1209906]\n\tOrdinal0 [0x00471AD4+1120980]\n\tOrdinal0 [0x004859E2+1202658]\n\tOrdinal0 [0x004718A6+1120422]\n\tOrdinal0 [0x0044A73D+960317]\n\tOrdinal0 [0x0044B71F+964383]\n\tGetHandleVerifier [0x0082E7E2+2743074]\n\tGetHandleVerifier [0x008208D4+2685972]\n\tGetHandleVerifier [0x00612BAA+532202]\n\tGetHandleVerifier [0x00611990+527568]\n\tOrdinal0 [0x0052080C+1837068]\n\tOrdinal0 [0x00524CD8+1854680]\n\tOrdinal0 [0x00524DC5+1854917]\n\tOrdinal0 [0x0052ED64+1895780]\n\tBaseThreadInitThunk [0x76CCFA29+25]\n\tRtlGetAppContainerNamedObjectPath [0x77627BBE+286]\n\tRtlGetAppContainerNamedObjectPath [0x77627B8E+238]\n"
     ]
    }
   ],
   "source": [
    "import os\n",
    "from binascii import a2b_base64\n",
    "\n",
    "if not os.path.exists('dog'):\n",
    "    os.makedirs('dog')\n",
    "\n",
    "for photo in photos[:10]:\n",
    "    photo.click()\n",
    "    img = driver.find_element(By.XPATH, '/html/body/div[2]/c-wiz/div[3]/div[2]/div[3]/div/div/div[3]/div[2]/c-wiz/div/div[1]/div[1]/div[3]/div/a/img')\n",
    "    img_url = img.get_attribute('src')\n",
    "    img_name = img_url.split(',')[1]\n",
    "    \n",
    "    binary_data = a2b_base64(img_name)\n",
    "\n",
    "    with open('dog/' + str(photos.index(photo)) + '.jpg', 'wb') as f:\n",
    "        f.write(binary_data)"
   ]
  },
  {
   "cell_type": "code",
   "execution_count": null,
   "id": "317e94aa",
   "metadata": {},
   "outputs": [],
   "source": []
  }
 ],
 "metadata": {
  "kernelspec": {
   "display_name": "Python 3.9.12 ('base')",
   "language": "python",
   "name": "python3"
  },
  "language_info": {
   "codemirror_mode": {
    "name": "ipython",
    "version": 3
   },
   "file_extension": ".py",
   "mimetype": "text/x-python",
   "name": "python",
   "nbconvert_exporter": "python",
   "pygments_lexer": "ipython3",
   "version": "3.9.12"
  },
  "vscode": {
   "interpreter": {
    "hash": "569ece3135de15643a61c059d59beec37ee0614225fbfabde5826efb8d0fe515"
   }
  }
 },
 "nbformat": 4,
 "nbformat_minor": 5
}
